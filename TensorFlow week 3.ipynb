{
 "cells": [
  {
   "cell_type": "markdown",
   "metadata": {},
   "source": [
    "Convolutional Neural Networks\n",
    "\n",
    "Convolutional neural networks pass a filter over an input with the idea of recognising certain values\n",
    "Pooling is when data is compressed to a smaller version of the same data as a result of the dot product of the filter's values against the initial data's values.\n"
   ]
  },
  {
   "cell_type": "code",
   "execution_count": 66,
   "metadata": {},
   "outputs": [],
   "source": [
    "from tensorflow import keras\n",
    "import tensorflow"
   ]
  },
  {
   "cell_type": "code",
   "execution_count": 5,
   "metadata": {},
   "outputs": [],
   "source": [
    "# Load the datasets. It returns 4 lists of training images/labels, and testing images/labels\n",
    "\n",
    "mnist = keras.datasets.fashion_mnist\n",
    "(training_images, training_labels), (testing_images, testing_labels) = mnist.load_data()"
   ]
  },
  {
   "cell_type": "code",
   "execution_count": 6,
   "metadata": {},
   "outputs": [],
   "source": [
    "# Convolutional neural network adds 3 layers to the previous Deep Neural Network in weeks 1 and 2\n",
    "# The Conv2D layer asks keras to generate 64 filters of size 3,3, 'relu' activation function which\n",
    "# throws away negative values & 28, 28, 1 = the size of the image with 1 pixel color depth (grayscale)\n",
    "# The 64 filters are a selection of known good filters, the ones that work well are learned over time\n",
    "# MaxPooling2D(2,2) takes the maximum value of a 2 by 2 filter and creates a new tensor\n",
    "# The input data is quartered and quartered again giving a much smaller file to compute\n",
    "\n",
    "\n",
    "model = keras.models.Sequential([\n",
    "    keras.layers.Conv2D(64, (3,3),\n",
    "                        activation = 'relu',\n",
    "                        input_shape = (28,28,1)),\n",
    "    keras.layers.MaxPooling2D(2,2),\n",
    "    keras.layers.Conv2D(64, (3,3), activation = 'relu'),\n",
    "    keras.layers.MaxPooling2D(2,2),\n",
    "    keras.layers.Flatten(),\n",
    "    keras.layers.Dense(128, activation = 'relu'),\n",
    "    keras.layers.Dense(10, activation = 'softmax')\n",
    "])"
   ]
  },
  {
   "cell_type": "code",
   "execution_count": 22,
   "metadata": {},
   "outputs": [],
   "source": [
    "# Reshape the images for input into hte neural network\n",
    "\n",
    "training_images = training_images.reshape(60000, 28, 28, 1)\n",
    "training_images = training_images / 255.0\n",
    "\n",
    "testing_images = testing_images.reshape(10000, 28, 28, 1)\n",
    "testing_images = testing_images / 255.0\n"
   ]
  },
  {
   "cell_type": "code",
   "execution_count": 18,
   "metadata": {},
   "outputs": [
    {
     "name": "stdout",
     "output_type": "stream",
     "text": [
      "_________________________________________________________________\n",
      "Layer (type)                 Output Shape              Param #   \n",
      "=================================================================\n",
      "conv2d_2 (Conv2D)            (None, 26, 26, 64)        640       \n",
      "_________________________________________________________________\n",
      "max_pooling2d_2 (MaxPooling2 (None, 13, 13, 64)        0         \n",
      "_________________________________________________________________\n",
      "conv2d_3 (Conv2D)            (None, 11, 11, 64)        36928     \n",
      "_________________________________________________________________\n",
      "max_pooling2d_3 (MaxPooling2 (None, 5, 5, 64)          0         \n",
      "_________________________________________________________________\n",
      "flatten_1 (Flatten)          (None, 1600)              0         \n",
      "_________________________________________________________________\n",
      "dense_2 (Dense)              (None, 128)               204928    \n",
      "_________________________________________________________________\n",
      "dense_3 (Dense)              (None, 10)                1290      \n",
      "=================================================================\n",
      "Total params: 243,786\n",
      "Trainable params: 243,786\n",
      "Non-trainable params: 0\n",
      "_________________________________________________________________\n"
     ]
    }
   ],
   "source": [
    "# model.summary() allows you to inspect the layers of the model\n",
    "# through the journey throught the convolutions\n",
    "\n",
    "model.summary()\n",
    "\n",
    "# The output shape is 26,26 not 28,28 because the filter is 3 by 3 and can't take\n",
    "# a value from the border pixels. There arent any neighbours to the top or left of the border pixels\n",
    "# so the border pixels are skipped in this process\n",
    "\n",
    "# The 26,26 becomes 13,13 after being quartered by the 2 by 2 pooling layer\n",
    "# 1 pixel is lost from the x and y axis at the next Conv2D layer, then pooling again leaves 5,5 image\n",
    "# Each convolution of each image creates 64 new images in total from each image as the conovolution\n",
    "# layer passes over the entire image one pixel at a time\n",
    "# 5*5*64 = 1600 new images after being flattened out"
   ]
  },
  {
   "cell_type": "code",
   "execution_count": 19,
   "metadata": {},
   "outputs": [],
   "source": [
    "# Compile the model with the optimizer and loss function\n",
    "\n",
    "model.compile(optimizer='adam', loss='sparse_categorical_crossentropy')\n"
   ]
  },
  {
   "cell_type": "code",
   "execution_count": 96,
   "metadata": {},
   "outputs": [
    {
     "name": "stdout",
     "output_type": "stream",
     "text": [
      "Epoch 1/5\n",
      "60000/60000 [==============================] - 72s 1ms/sample - loss: 11.1188\n",
      "Epoch 2/5\n",
      "60000/60000 [==============================] - 72s 1ms/sample - loss: 7.5173\n",
      "Epoch 3/5\n",
      "60000/60000 [==============================] - 72s 1ms/sample - loss: 4.7042\n",
      "Epoch 4/5\n",
      "60000/60000 [==============================] - 72s 1ms/sample - loss: 3.7766\n",
      "Epoch 5/5\n",
      "60000/60000 [==============================] - 72s 1ms/sample - loss: 3.7300\n"
     ]
    },
    {
     "data": {
      "text/plain": [
       "<tensorflow.python.keras.callbacks.History at 0x2788f17b7f0>"
      ]
     },
     "execution_count": 96,
     "metadata": {},
     "output_type": "execute_result"
    }
   ],
   "source": [
    "# Train the model using the data aquired above\n",
    "\n",
    "model.fit(training_images, training_labels, epochs=5)"
   ]
  },
  {
   "cell_type": "code",
   "execution_count": 23,
   "metadata": {},
   "outputs": [
    {
     "name": "stdout",
     "output_type": "stream",
     "text": [
      "10000/10000 [==============================] - 5s 528us/sample - loss: 4.1523\n"
     ]
    }
   ],
   "source": [
    "test_loss = model.evaluate(testing_images, testing_labels)"
   ]
  },
  {
   "cell_type": "code",
   "execution_count": null,
   "metadata": {},
   "outputs": [],
   "source": []
  },
  {
   "cell_type": "code",
   "execution_count": 95,
   "metadata": {},
   "outputs": [],
   "source": [
    "# Visualise each convolution\n",
    "\n",
    "# import matplotlib.pyplot as plt\n",
    "# f, axarr = plt.subplots(3,4)\n",
    "# FIRST_IMAGE=0\n",
    "# SECOND_IMAGE=7\n",
    "# THIRD_IMAGE=26\n",
    "# CONVOLUTION_NUMBER = 1\n",
    "# from tensorflow.keras import models\n",
    "# layer_outputs = [layer.output for layer in model.layers]\n",
    "# activation_model = keras.models.Model(inputs = model.input, outputs = layer_outputs)\n",
    "# for x in range(0,4):\n",
    "#   f1 = activation_model.predict(testing_images[FIRST_IMAGE].reshape(1, 28, 28, 1))[x]\n",
    "#   axarr[0,x].imshow(f1[0, : , :, CONVOLUTION_NUMBER], cmap='inferno')\n",
    "#   axarr[0,x].grid(False)\n",
    "#   f2 = activation_model.predict(testing_images[SECOND_IMAGE].reshape(1, 28, 28, 1))[x]\n",
    "#   axarr[1,x].imshow(f2[0, : , :, CONVOLUTION_NUMBER], cmap='inferno')\n",
    "#   axarr[1,x].grid(False)\n",
    "#   f3 = activation_model.predict(testing_images[THIRD_IMAGE].reshape(1, 28, 28, 1))[x]\n",
    "#   axarr[2,x].imshow(f3[0, : , :, CONVOLUTION_NUMBER], cmap='inferno')\n",
    "#   axarr[2,x].grid(False)"
   ]
  },
  {
   "cell_type": "code",
   "execution_count": 86,
   "metadata": {},
   "outputs": [],
   "source": [
    "# Create a callbacks class that stops the epochs at a particular accuracy\n",
    "\n",
    "class myCallback(keras.callbacks.Callback):\n",
    "    def on_epoch_end(self, epoch, logs={}):\n",
    "        if logs.get('acc') > 0.998:\n",
    "            print('\\n \\n Accuracy target reached!! \\n \\n')\n",
    "            self.model.stop_training = True"
   ]
  },
  {
   "cell_type": "code",
   "execution_count": 87,
   "metadata": {},
   "outputs": [],
   "source": [
    "# Load the handwriting mnist data\n",
    "\n",
    "mnist_hw = keras.datasets.mnist\n",
    "(training_images_hw, training_labels_hw), (testing_images_hw, testing_labels_hw) = mnist_hw.load_data()"
   ]
  },
  {
   "cell_type": "code",
   "execution_count": 88,
   "metadata": {},
   "outputs": [],
   "source": [
    "# Reshape the data\n",
    "\n",
    "training_images_hw = training_images_hw.reshape(60000, 28, 28, 1)\n",
    "training_images_hw = training_images_hw / 255.0\n",
    "\n",
    "testing_images_hw = testing_images_hw.reshape(10000, 28, 28, 1)\n",
    "testing_images_hw = testing_images_hw / 255.0"
   ]
  },
  {
   "cell_type": "code",
   "execution_count": 89,
   "metadata": {},
   "outputs": [],
   "source": [
    "# Define the model\n",
    "\n",
    "model_hw = keras.Sequential([\n",
    "    keras.layers.Conv2D(64, (3,3), activation = 'relu', input_shape = (28,28,1)),\n",
    "    keras.layers.MaxPooling2D(2,2),\n",
    "    keras.layers.Flatten(),\n",
    "    keras.layers.Dense(128, activation='relu'),\n",
    "    keras.layers.Dense(10, activation='softmax')\n",
    "])"
   ]
  },
  {
   "cell_type": "code",
   "execution_count": 90,
   "metadata": {},
   "outputs": [],
   "source": [
    "# Define the loss function and optimizer\n",
    "\n",
    "model_hw.compile(optimizer='adam', loss='sparse_categorical_crossentropy', metrics=['accuracy'])"
   ]
  },
  {
   "cell_type": "code",
   "execution_count": 91,
   "metadata": {},
   "outputs": [],
   "source": [
    "# Instantiate the class\n",
    "\n",
    "callbacks = myCallback()"
   ]
  },
  {
   "cell_type": "code",
   "execution_count": 92,
   "metadata": {},
   "outputs": [
    {
     "name": "stdout",
     "output_type": "stream",
     "text": [
      "Epoch 1/20\n",
      "60000/60000 [==============================] - 65s 1ms/sample - loss: 0.1394 - acc: 0.9584\n",
      "Epoch 2/20\n",
      "60000/60000 [==============================] - 65s 1ms/sample - loss: 0.0506 - acc: 0.9843\n",
      "Epoch 3/20\n",
      "60000/60000 [==============================] - 65s 1ms/sample - loss: 0.0304 - acc: 0.9905\n",
      "Epoch 4/20\n",
      "60000/60000 [==============================] - 65s 1ms/sample - loss: 0.0187 - acc: 0.9943\n",
      "Epoch 5/20\n",
      "60000/60000 [==============================] - 65s 1ms/sample - loss: 0.0143 - acc: 0.9950\n",
      "Epoch 6/20\n",
      "60000/60000 [==============================] - 65s 1ms/sample - loss: 0.0095 - acc: 0.9968\n",
      "Epoch 7/20\n",
      "60000/60000 [==============================] - 65s 1ms/sample - loss: 0.0084 - acc: 0.9968\n",
      "Epoch 8/20\n",
      "59936/60000 [============================>.] - ETA: 0s - loss: 0.0056 - acc: 0.9981\n",
      " \n",
      " Accuracy target reached!! \n",
      " \n",
      "\n",
      "60000/60000 [==============================] - 65s 1ms/sample - loss: 0.0056 - acc: 0.9981\n"
     ]
    },
    {
     "data": {
      "text/plain": [
       "<tensorflow.python.keras.callbacks.History at 0x2788f107cf8>"
      ]
     },
     "execution_count": 92,
     "metadata": {},
     "output_type": "execute_result"
    }
   ],
   "source": [
    "# Train the model\n",
    "\n",
    "model_hw.fit(training_images_hw, training_labels_hw, epochs=20, callbacks = [callbacks])"
   ]
  },
  {
   "cell_type": "code",
   "execution_count": 94,
   "metadata": {},
   "outputs": [
    {
     "name": "stdout",
     "output_type": "stream",
     "text": [
      "10000/10000 [==============================] - 3s 347us/sample - loss: 0.0545 - acc: 0.9865\n"
     ]
    }
   ],
   "source": [
    "test_loss_hw = model_hw.evaluate(testing_images_hw, testing_labels_hw)"
   ]
  },
  {
   "cell_type": "code",
   "execution_count": null,
   "metadata": {},
   "outputs": [],
   "source": []
  }
 ],
 "metadata": {
  "kernelspec": {
   "display_name": "Python 3",
   "language": "python",
   "name": "python3"
  },
  "language_info": {
   "codemirror_mode": {
    "name": "ipython",
    "version": 3
   },
   "file_extension": ".py",
   "mimetype": "text/x-python",
   "name": "python",
   "nbconvert_exporter": "python",
   "pygments_lexer": "ipython3",
   "version": "3.7.3"
  }
 },
 "nbformat": 4,
 "nbformat_minor": 2
}
