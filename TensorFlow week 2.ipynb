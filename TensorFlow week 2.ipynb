{
 "cells": [
  {
   "cell_type": "code",
   "execution_count": 60,
   "metadata": {},
   "outputs": [],
   "source": [
    "from matplotlib import pyplot as plt\n",
    "from tensorflow import keras"
   ]
  },
  {
   "cell_type": "code",
   "execution_count": 61,
   "metadata": {},
   "outputs": [],
   "source": [
    "# Load 70,000 images from the fashion mnist dataset\n",
    "# Fashion.mnist.load_data() loads 4 lists - training images and labels and test images and labels\n",
    "\n",
    "fashion_mnist = keras.datasets.fashion_mnist\n",
    "(train_images, train_labels), (test_images, test_labels) = fashion_mnist.load_data()"
   ]
  },
  {
   "cell_type": "code",
   "execution_count": 62,
   "metadata": {},
   "outputs": [],
   "source": [
    "# code the neural network definition\n",
    "# the flatten layer is 28, 28 because the images are 28, 28 pixels\n",
    "# flatten() turns the 2d tensor into a simple 1-dimensional linear array\n",
    "# the last layer has 10 neurons in it because there are 10 classes of clothing items to classify\n",
    "# the middle layer of 128 neurons multiplies the input values by hidden weights to output the \n",
    "# correct corresponding value to the training image - if a shoe, the values would add up to 9\n",
    "\n",
    "model_2 = keras.Sequential([\n",
    "    keras.layers.Flatten(input_shape=(28,28)),\n",
    "    keras.layers.Dense(128, activation = 'relu'),\n",
    "    keras.layers.Dense(10, activation = 'softmax')\n",
    "])\n"
   ]
  },
  {
   "cell_type": "code",
   "execution_count": 63,
   "metadata": {},
   "outputs": [],
   "source": [
    "# Normalize the data by dividing the grayscale values by 255.0.\n",
    "# Entire numpy arrays can be divided in python as below\n",
    "# This creates a float value between 0 and 1 for each grayscale value\n",
    "\n",
    "train_images = train_images / 255.0\n",
    "test_images = test_images / 255.0"
   ]
  },
  {
   "cell_type": "code",
   "execution_count": 64,
   "metadata": {},
   "outputs": [],
   "source": [
    "# Compile the model by defining the loss function and the optimizer\n",
    "# The adam optimizer is a form of stochastic gradient descent that alters weights of neurons\n",
    "# Metrics=['accuracy'] adds the accuracy metric to the training data\n",
    "\n",
    "model_2.compile(optimizer = 'adam', loss = 'sparse_categorical_crossentropy', metrics = ['accuracy'])"
   ]
  },
  {
   "cell_type": "code",
   "execution_count": 69,
   "metadata": {},
   "outputs": [],
   "source": [
    "# Create the callbacks class which defines a particular accuracy to stop the training\n",
    "\n",
    "class myCallbacks(keras.callbacks.Callback):\n",
    "    def on_epoch_end(self, epoch, logs={}):\n",
    "        if logs.get('loss') < 0.1:\n",
    "            print('\\n \\n accuracy target reached! \\n \\n')\n",
    "            self.model.stop_training = True"
   ]
  },
  {
   "cell_type": "code",
   "execution_count": 70,
   "metadata": {},
   "outputs": [
    {
     "name": "stdout",
     "output_type": "stream",
     "text": [
      "Epoch 1/5\n",
      "59456/60000 [============================>.] - ETA: 0s - loss: 0.3361 - acc: 0.8777\n",
      " \n",
      " accuracy target reached! \n",
      " \n",
      "\n",
      "60000/60000 [==============================] - 4s 72us/sample - loss: 0.3368 - acc: 0.8774\n"
     ]
    },
    {
     "data": {
      "text/plain": [
       "<tensorflow.python.keras.callbacks.History at 0x24bb4696198>"
      ]
     },
     "execution_count": 70,
     "metadata": {},
     "output_type": "execute_result"
    }
   ],
   "source": [
    "# train the model on the training datasets for 5 epochs\n",
    "# use the callbacks parameter and pass it an instance of the class myCallbacks\n",
    "\n",
    "callbacks = myCallbacks()\n",
    "\n",
    "model_2.fit(train_images, train_labels, epochs = 5, callbacks = [callbacks])"
   ]
  },
  {
   "cell_type": "code",
   "execution_count": 53,
   "metadata": {},
   "outputs": [
    {
     "name": "stdout",
     "output_type": "stream",
     "text": [
      "10000/10000 [==============================] - 1s 59us/sample - loss: 0.4083 - acc: 0.8532\n"
     ]
    },
    {
     "data": {
      "text/plain": [
       "[0.40832867987155913, 0.8532]"
      ]
     },
     "execution_count": 53,
     "metadata": {},
     "output_type": "execute_result"
    }
   ],
   "source": [
    "# test the model on the test data\n",
    "\n",
    "model_2.evaluate(test_images, test_labels)"
   ]
  },
  {
   "cell_type": "code",
   "execution_count": 54,
   "metadata": {},
   "outputs": [
    {
     "name": "stdout",
     "output_type": "stream",
     "text": [
      "[2.38052223e-07 2.31996156e-09 2.29375246e-06 1.12098701e-06\n",
      " 6.62243610e-06 1.11266546e-01 1.14805935e-05 1.62591651e-01\n",
      " 2.59847101e-03 7.23521531e-01]\n"
     ]
    }
   ],
   "source": [
    "classifications = model_2.predict(test_images)\n",
    "print(classifications[0])"
   ]
  },
  {
   "cell_type": "code",
   "execution_count": 55,
   "metadata": {},
   "outputs": [
    {
     "name": "stdout",
     "output_type": "stream",
     "text": [
      "9\n"
     ]
    }
   ],
   "source": [
    "print(test_labels[0])"
   ]
  },
  {
   "cell_type": "markdown",
   "metadata": {},
   "source": [
    "Create an image recognition model to classify handwriting using the classic mnist dataset"
   ]
  },
  {
   "cell_type": "code",
   "execution_count": 71,
   "metadata": {},
   "outputs": [],
   "source": [
    "# load the mnist dataset \n",
    "\n",
    "hw_mnist = keras.datasets.mnist"
   ]
  },
  {
   "cell_type": "code",
   "execution_count": 74,
   "metadata": {},
   "outputs": [],
   "source": [
    "# create the 4 lists of training data, images and testing data and images\n",
    "\n",
    "(x_train, y_train), (x_test, y_test) = hw_mnist.load_data()\n",
    "x_train = x_train / 255\n",
    "y_train = y_train / 255"
   ]
  },
  {
   "cell_type": "code",
   "execution_count": 75,
   "metadata": {},
   "outputs": [],
   "source": [
    "# initialise the model with 512 neirons in the models single layer of neurons\n",
    "# the final layer is to have 26 output neurons as the alphabet has 26 different (classes) letters\n",
    "\n",
    "model_hw = keras.Sequential([\n",
    "    keras.layers.Flatten(input_shape = (28, 28)),\n",
    "    keras.layers.Dense(512, activation = 'relu'),\n",
    "    keras.layers.Dense(26, activation = 'softmax')\n",
    "])"
   ]
  },
  {
   "cell_type": "code",
   "execution_count": 77,
   "metadata": {},
   "outputs": [],
   "source": [
    "# Compile the models optimizers and loss functions. Include the accuracy metric to utilise callbacks\n",
    "\n",
    "model_hw.compile(optimizer = 'adam',\n",
    "                 loss = 'sparse_categorical_crossentropy',\n",
    "                 metrics = ['accuracy'])"
   ]
  },
  {
   "cell_type": "code",
   "execution_count": 78,
   "metadata": {},
   "outputs": [
    {
     "name": "stdout",
     "output_type": "stream",
     "text": [
      "Epoch 1/10\n",
      "59840/60000 [============================>.] - ETA: 0s - loss: 0.0038 - acc: 0.9995\n",
      " \n",
      " accuracy target reached! \n",
      " \n",
      "\n",
      "60000/60000 [==============================] - 9s 144us/sample - loss: 0.0038 - acc: 0.9995\n"
     ]
    },
    {
     "data": {
      "text/plain": [
       "<tensorflow.python.keras.callbacks.History at 0x24bb4ae6da0>"
      ]
     },
     "execution_count": 78,
     "metadata": {},
     "output_type": "execute_result"
    }
   ],
   "source": [
    "model_hw.fit(x_train, y_train, epochs = 10, callbacks = [callbacks])"
   ]
  },
  {
   "cell_type": "code",
   "execution_count": null,
   "metadata": {},
   "outputs": [],
   "source": []
  }
 ],
 "metadata": {
  "kernelspec": {
   "display_name": "Python 3",
   "language": "python",
   "name": "python3"
  },
  "language_info": {
   "codemirror_mode": {
    "name": "ipython",
    "version": 3
   },
   "file_extension": ".py",
   "mimetype": "text/x-python",
   "name": "python",
   "nbconvert_exporter": "python",
   "pygments_lexer": "ipython3",
   "version": "3.7.3"
  }
 },
 "nbformat": 4,
 "nbformat_minor": 2
}
